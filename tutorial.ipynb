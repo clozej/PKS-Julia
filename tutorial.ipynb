{
 "cells": [
  {
   "cell_type": "markdown",
   "metadata": {},
   "source": [
    "How to define variables? Simple!"
   ]
  },
  {
   "cell_type": "code",
   "execution_count": 1,
   "metadata": {},
   "outputs": [],
   "source": [
    "a = 1\n",
    "b = 23.345\n",
    "δ = 7\n",
    "Črt = \"Črt\"\n",
    "; #newline \n",
    "\n",
    "#= this is a \n",
    "multiline \n",
    "comment\n",
    "=#\n"
   ]
  },
  {
   "cell_type": "markdown",
   "metadata": {},
   "source": [
    "Strings and printing."
   ]
  },
  {
   "cell_type": "code",
   "execution_count": 2,
   "metadata": {},
   "outputs": [
    {
     "name": "stdout",
     "output_type": "stream",
     "text": [
      "Črt23.345\n",
      "Hello, world.\n",
      "\n"
     ]
    }
   ],
   "source": [
    "greet = \"Hello\"\n",
    "whom = \"world\"\n",
    "message = \"$greet, $whom.\\n\" #inserts into string (called interoplation)\n",
    "\n",
    "print(Črt)\n",
    "print(b)\n",
    "print(\"\\n\")\n",
    "print(message)\n",
    "print(\"\\n\")\n"
   ]
  },
  {
   "cell_type": "markdown",
   "metadata": {},
   "source": [
    "Types are important!"
   ]
  },
  {
   "cell_type": "code",
   "execution_count": 3,
   "metadata": {},
   "outputs": [
    {
     "data": {
      "text/plain": [
       "Int64"
      ]
     },
     "execution_count": 3,
     "metadata": {},
     "output_type": "execute_result"
    }
   ],
   "source": [
    "typeof(a)"
   ]
  },
  {
   "cell_type": "code",
   "execution_count": 4,
   "metadata": {},
   "outputs": [
    {
     "data": {
      "text/plain": [
       "Float64"
      ]
     },
     "execution_count": 4,
     "metadata": {},
     "output_type": "execute_result"
    }
   ],
   "source": [
    "typeof(b)"
   ]
  },
  {
   "cell_type": "code",
   "execution_count": 5,
   "metadata": {},
   "outputs": [
    {
     "data": {
      "text/plain": [
       "Irrational{:π}"
      ]
     },
     "execution_count": 5,
     "metadata": {},
     "output_type": "execute_result"
    }
   ],
   "source": [
    "typeof(pi)"
   ]
  },
  {
   "cell_type": "code",
   "execution_count": 6,
   "metadata": {},
   "outputs": [
    {
     "data": {
      "text/plain": [
       "4.141592653589793238462643383279502884197169399375105820974944592307816406286198"
      ]
     },
     "execution_count": 6,
     "metadata": {},
     "output_type": "execute_result"
    }
   ],
   "source": [
    "BigFloat(1) + pi"
   ]
  },
  {
   "cell_type": "code",
   "execution_count": 7,
   "metadata": {},
   "outputs": [
    {
     "data": {
      "text/plain": [
       "4.141592653589793115997963468544185161590576171875"
      ]
     },
     "execution_count": 7,
     "metadata": {},
     "output_type": "execute_result"
    }
   ],
   "source": [
    "BigFloat(1) + Float64(pi)"
   ]
  },
  {
   "cell_type": "markdown",
   "metadata": {},
   "source": [
    "Important tip: ensure the types of the variables are not changed during execution!\n",
    "This is called \"type stability\"."
   ]
  },
  {
   "cell_type": "code",
   "execution_count": 8,
   "metadata": {},
   "outputs": [
    {
     "data": {
      "text/plain": [
       "Float64"
      ]
     },
     "execution_count": 8,
     "metadata": {},
     "output_type": "execute_result"
    }
   ],
   "source": [
    "a = 1.0 #this is bad for performance because we changed the type of a\n",
    "typeof(a)"
   ]
  },
  {
   "cell_type": "markdown",
   "metadata": {},
   "source": [
    "Functions help with code reusability and performance. Also global variables are bad in julia because compiler cannot optimize as well. "
   ]
  },
  {
   "cell_type": "code",
   "execution_count": 9,
   "metadata": {},
   "outputs": [
    {
     "data": {
      "text/plain": [
       "5"
      ]
     },
     "execution_count": 9,
     "metadata": {},
     "output_type": "execute_result"
    }
   ],
   "source": [
    "function f(x)\n",
    "    x^2 + 1    \n",
    "end #ends the function and returns last computation\n",
    "\n",
    "f(2)"
   ]
  },
  {
   "cell_type": "code",
   "execution_count": 10,
   "metadata": {},
   "outputs": [
    {
     "data": {
      "text/plain": [
       "0.6492167723103801"
      ]
     },
     "execution_count": 10,
     "metadata": {},
     "output_type": "execute_result"
    }
   ],
   "source": [
    "#quick definition\n",
    "g(x) = sin(x)\n",
    "\n",
    "#anonymous functions stored in variable\n",
    "h = (x, y) -> g(x) + y\n",
    "\n",
    "h(3.5, 1.0)"
   ]
  },
  {
   "cell_type": "code",
   "execution_count": 11,
   "metadata": {},
   "outputs": [
    {
     "data": {
      "text/plain": [
       "1.9950041652780257"
      ]
     },
     "execution_count": 11,
     "metadata": {},
     "output_type": "execute_result"
    }
   ],
   "source": [
    "#positional, default and keyword arguments\n",
    "function wave(x, y=1.0 ; a=1.0) #kwargs following ; generally worse performance\n",
    "    return a*cos(x) + y\n",
    "end\n",
    "\n",
    "wave(0.1)"
   ]
  },
  {
   "cell_type": "code",
   "execution_count": 12,
   "metadata": {},
   "outputs": [
    {
     "name": "stdout",
     "output_type": "stream",
     "text": [
      "I accept everything!"
     ]
    }
   ],
   "source": [
    "function variable_arguments(x, args...) #might cause performance issues ... is called splating\n",
    "    print(\"I accept everything!\")\n",
    "end\n",
    "\n",
    "variable_arguments(1, 2,  5, 6)"
   ]
  },
  {
   "cell_type": "code",
   "execution_count": 13,
   "metadata": {},
   "outputs": [
    {
     "data": {
      "text/plain": [
       "2"
      ]
     },
     "execution_count": 13,
     "metadata": {},
     "output_type": "execute_result"
    }
   ],
   "source": [
    "function modify!(x) #convention: function that modifies its argument name ends with !\n",
    "    x + 1\n",
    "end\n",
    "\n",
    "x = 1\n",
    "modify!(x)"
   ]
  },
  {
   "cell_type": "markdown",
   "metadata": {},
   "source": [
    "Flow control, loops..."
   ]
  },
  {
   "cell_type": "code",
   "execution_count": 14,
   "metadata": {},
   "outputs": [
    {
     "name": "stdout",
     "output_type": "stream",
     "text": [
      "1\n",
      "4\n",
      "9\n",
      "16\n",
      "25\n",
      "36\n",
      "49\n",
      "64\n",
      "81\n",
      "100\n"
     ]
    }
   ],
   "source": [
    "function absolute(x)\n",
    "    if x >= 0\n",
    "        return x\n",
    "    else\n",
    "        return -x\n",
    "    end\n",
    "end\n",
    "\n",
    "function while_test()\n",
    "    i=0\n",
    "    while(i<30)\n",
    "        println(i)\n",
    "        i += 1\n",
    "    end\n",
    "end\n",
    "\n",
    "for i in 1:100 #ranges \n",
    "    if i>10\n",
    "        break\n",
    "    else\n",
    "   \t    println(i^2) #printline \n",
    "    end\n",
    "end\n"
   ]
  },
  {
   "cell_type": "markdown",
   "metadata": {},
   "source": [
    "Usefull data structures: arrays, vectors and tuples"
   ]
  },
  {
   "cell_type": "code",
   "execution_count": 15,
   "metadata": {},
   "outputs": [
    {
     "data": {
      "text/plain": [
       "2×3 Matrix{Int64}:\n",
       " 1  2  3\n",
       " 4  5  6"
      ]
     },
     "execution_count": 15,
     "metadata": {},
     "output_type": "execute_result"
    }
   ],
   "source": [
    "v = [1,2,3]\n",
    "A = [1 2 3 ; 4 5 6]"
   ]
  },
  {
   "cell_type": "code",
   "execution_count": 16,
   "metadata": {},
   "outputs": [
    {
     "data": {
      "text/plain": [
       "2-element Vector{Int64}:\n",
       " 14\n",
       " 32"
      ]
     },
     "execution_count": 16,
     "metadata": {},
     "output_type": "execute_result"
    }
   ],
   "source": [
    "A * v"
   ]
  },
  {
   "cell_type": "markdown",
   "metadata": {},
   "source": [
    "Multidimensional arrays. Be careful to iterate in the right way! column-major storage, like fortran not like python. "
   ]
  },
  {
   "cell_type": "code",
   "execution_count": 17,
   "metadata": {},
   "outputs": [
    {
     "data": {
      "text/plain": [
       "2×3×4 Array{Float64, 3}:\n",
       "[:, :, 1] =\n",
       " 1.0  2.0  3.0\n",
       " 2.0  4.0  6.0\n",
       "\n",
       "[:, :, 2] =\n",
       " 2.0  4.0   6.0\n",
       " 4.0  8.0  12.0\n",
       "\n",
       "[:, :, 3] =\n",
       " 3.0   6.0   9.0\n",
       " 6.0  12.0  18.0\n",
       "\n",
       "[:, :, 4] =\n",
       " 4.0   8.0  12.0\n",
       " 8.0  16.0  24.0"
      ]
     },
     "execution_count": 17,
     "metadata": {},
     "output_type": "execute_result"
    }
   ],
   "source": [
    "table = zeros(2,3,4)\n",
    "for k in 1:4\n",
    "    for j in 1:3\n",
    "        for i in 1:2\n",
    "            table[i,j,k] = i*j*k\n",
    "        end\n",
    "    end\n",
    "end\n",
    "\n",
    "table"
   ]
  },
  {
   "cell_type": "code",
   "execution_count": 18,
   "metadata": {},
   "outputs": [
    {
     "data": {
      "text/plain": [
       "2×3×2 Array{Float64, 3}:\n",
       "[:, :, 1] =\n",
       " 1.0  2.0  3.0\n",
       " 2.0  4.0  6.0\n",
       "\n",
       "[:, :, 2] =\n",
       " 2.0  4.0   6.0\n",
       " 4.0  8.0  12.0"
      ]
     },
     "execution_count": 18,
     "metadata": {},
     "output_type": "execute_result"
    }
   ],
   "source": [
    "table[:, 1:3, 1:2]"
   ]
  },
  {
   "cell_type": "code",
   "execution_count": 19,
   "metadata": {},
   "outputs": [
    {
     "name": "stdout",
     "output_type": "stream",
     "text": [
      "1 1.0\n",
      "2 2.0\n",
      "3 2.0\n",
      "4 4.0\n",
      "5 3.0\n",
      "6 6.0\n",
      "7 2.0\n",
      "8 4.0\n",
      "9 4.0\n",
      "10 8.0\n",
      "11 6.0\n",
      "12 12.0\n",
      "13 3.0\n",
      "14 6.0\n",
      "15 6.0\n",
      "16 12.0\n",
      "17 9.0\n",
      "18 18.0\n",
      "19 4.0\n",
      "20 8.0\n",
      "21 8.0\n",
      "22 16.0\n",
      "23 12.0\n",
      "24 24.0\n"
     ]
    }
   ],
   "source": [
    "for n in eachindex(table) #most efficient way of looping through array\n",
    "    print(n)\n",
    "    print(\" \")\n",
    "    print(table[n])\n",
    "    print(\"\\n\")\n",
    "end    "
   ]
  },
  {
   "cell_type": "code",
   "execution_count": 20,
   "metadata": {},
   "outputs": [
    {
     "data": {
      "text/plain": [
       "3-element Vector{Float64}:\n",
       " 0.8414709848078965\n",
       " 0.9092974268256817\n",
       " 0.1411200080598672"
      ]
     },
     "execution_count": 20,
     "metadata": {},
     "output_type": "execute_result"
    }
   ],
   "source": [
    "#brodcasting is done with . Similar to numpy functions\n",
    "\n",
    "a = [1,2,3]\n",
    "sin.(a)\n"
   ]
  },
  {
   "cell_type": "code",
   "execution_count": 21,
   "metadata": {},
   "outputs": [
    {
     "data": {
      "text/plain": [
       "6"
      ]
     },
     "execution_count": 21,
     "metadata": {},
     "output_type": "execute_result"
    }
   ],
   "source": [
    "tuple1 = (1, 2, 3) #tuples are immutable like in python\n",
    "a, b, c = tuple1\n",
    "\n",
    "function splat_test(a, b, c)\n",
    "    return a*b*c\n",
    "end\n",
    "\n",
    "splat_test(tuple1...)"
   ]
  },
  {
   "cell_type": "markdown",
   "metadata": {},
   "source": [
    "Custom types"
   ]
  },
  {
   "cell_type": "code",
   "execution_count": 1,
   "metadata": {},
   "outputs": [],
   "source": [
    "abstract type Being\n",
    "end\n",
    "\n",
    "struct Physicist <: Being\n",
    "    name::String\n",
    "    subject::String\n",
    "end\n",
    "\n",
    "#default constructor\n"
   ]
  },
  {
   "cell_type": "code",
   "execution_count": 3,
   "metadata": {},
   "outputs": [
    {
     "data": {
      "text/plain": [
       "\"Rydberg Atoms\""
      ]
     },
     "execution_count": 3,
     "metadata": {},
     "output_type": "execute_result"
    }
   ],
   "source": [
    "crt = Physicist(\"Črt\", \"Quantum Chaos\")\n",
    "matt = Physicist(\"Matt\", \"Rydberg Atoms\")\n",
    "matt.subject "
   ]
  },
  {
   "cell_type": "code",
   "execution_count": 24,
   "metadata": {},
   "outputs": [
    {
     "ename": "LoadError",
     "evalue": "setfield!: immutable struct of type Physicist cannot be changed",
     "output_type": "error",
     "traceback": [
      "setfield!: immutable struct of type Physicist cannot be changed",
      "",
      "Stacktrace:",
      " [1] setproperty!(x::Physicist, f::Symbol, v::String)",
      "   @ Base ./Base.jl:43",
      " [2] top-level scope",
      "   @ In[24]:1",
      " [3] eval",
      "   @ ./boot.jl:373 [inlined]",
      " [4] include_string(mapexpr::typeof(REPL.softscope), mod::Module, code::String, filename::String)",
      "   @ Base ./loading.jl:1196"
     ]
    }
   ],
   "source": [
    "matt.subject = \"Quantum Chaos\""
   ]
  },
  {
   "cell_type": "code",
   "execution_count": 6,
   "metadata": {},
   "outputs": [],
   "source": [
    "mutable struct Droid <: Being\n",
    "    name::String\n",
    "    subject::String\n",
    "end\n",
    "\n"
   ]
  },
  {
   "cell_type": "code",
   "execution_count": 8,
   "metadata": {},
   "outputs": [
    {
     "data": {
      "text/plain": [
       "Droid(\"C3-PO\", \"Protocol\")"
      ]
     },
     "execution_count": 8,
     "metadata": {},
     "output_type": "execute_result"
    }
   ],
   "source": [
    "r2 = Droid(\"R2-D2\", \"Mechanical Engineering\")\n",
    "threepo = Droid(\"C3-PO\", \"Protocol\")"
   ]
  },
  {
   "cell_type": "code",
   "execution_count": 9,
   "metadata": {},
   "outputs": [
    {
     "data": {
      "text/plain": [
       "\"Gastronomy\""
      ]
     },
     "execution_count": 9,
     "metadata": {},
     "output_type": "execute_result"
    }
   ],
   "source": [
    "r2.subject = \"Gastronomy\""
   ]
  },
  {
   "cell_type": "markdown",
   "metadata": {},
   "source": [
    "Multiple Dispatch"
   ]
  },
  {
   "cell_type": "code",
   "execution_count": 10,
   "metadata": {},
   "outputs": [
    {
     "data": {
      "text/plain": [
       "introduce (generic function with 1 method)"
      ]
     },
     "execution_count": 10,
     "metadata": {},
     "output_type": "execute_result"
    }
   ],
   "source": [
    "function introduce(me::Being)\n",
    "    println(\"I am $(me.name) and I like $(me.subject).\")\n",
    "end"
   ]
  },
  {
   "cell_type": "code",
   "execution_count": 12,
   "metadata": {},
   "outputs": [
    {
     "name": "stdout",
     "output_type": "stream",
     "text": [
      "I am C3-PO and I like Protocol.\n",
      "I am Črt and I like Quantum Chaos.\n"
     ]
    }
   ],
   "source": [
    "introduce(threepo)\n",
    "introduce(crt)"
   ]
  },
  {
   "cell_type": "code",
   "execution_count": null,
   "metadata": {},
   "outputs": [],
   "source": [
    "introduce(1)"
   ]
  },
  {
   "cell_type": "code",
   "execution_count": 15,
   "metadata": {},
   "outputs": [
    {
     "data": {
      "text/plain": [
       "introduce (generic function with 3 methods)"
      ]
     },
     "execution_count": 15,
     "metadata": {},
     "output_type": "execute_result"
    }
   ],
   "source": [
    "function introduce(me::Number)\n",
    "    println(\"I am $me and I am a $(typeof(me)).\")\n",
    "end\n",
    "\n",
    "function introduce(me::Integer)\n",
    "    println(\"I am $me and I am an $(typeof(me)).\")\n",
    "end"
   ]
  },
  {
   "cell_type": "code",
   "execution_count": 17,
   "metadata": {},
   "outputs": [
    {
     "name": "stdout",
     "output_type": "stream",
     "text": [
      "I am 1 and I am an Int64.\n",
      "I am 1.0 and I am a Float64.\n"
     ]
    }
   ],
   "source": [
    "introduce(1)\n",
    "introduce(1.0)"
   ]
  },
  {
   "cell_type": "code",
   "execution_count": 8,
   "metadata": {},
   "outputs": [
    {
     "data": {
      "text/plain": [
       "Cat"
      ]
     },
     "execution_count": 8,
     "metadata": {},
     "output_type": "execute_result"
    }
   ],
   "source": [
    "struct Cat <: Being\n",
    "    name::String\n",
    "    subject::String\n",
    "\n",
    "end\n",
    "\n",
    "Cat(name)= Cat(name, \"Sleeping\")\n"
   ]
  },
  {
   "cell_type": "code",
   "execution_count": 9,
   "metadata": {},
   "outputs": [
    {
     "data": {
      "text/plain": [
       "Cat(\"Mihovil\", \"Sleeping\")"
      ]
     },
     "execution_count": 9,
     "metadata": {},
     "output_type": "execute_result"
    }
   ],
   "source": [
    "miho = Cat(\"Mihovil\")"
   ]
  },
  {
   "cell_type": "code",
   "execution_count": 10,
   "metadata": {},
   "outputs": [
    {
     "data": {
      "text/plain": [
       "Cat(\"Blixa\", \"Eating\")"
      ]
     },
     "execution_count": 10,
     "metadata": {},
     "output_type": "execute_result"
    }
   ],
   "source": [
    "blixa = Cat(\"Blixa\", \"Eating\")"
   ]
  },
  {
   "cell_type": "code",
   "execution_count": 3,
   "metadata": {},
   "outputs": [],
   "source": [
    "struct Plant <: Being\n",
    "    name::String\n",
    "    subject::String\n",
    "    Plant(name) = new(name, \"Growing\")\n",
    "end"
   ]
  },
  {
   "cell_type": "code",
   "execution_count": 4,
   "metadata": {},
   "outputs": [
    {
     "data": {
      "text/plain": [
       "Plant(\"Ficus\", \"Growing\")"
      ]
     },
     "execution_count": 4,
     "metadata": {},
     "output_type": "execute_result"
    }
   ],
   "source": [
    "beni = Plant(\"Ficus\")"
   ]
  },
  {
   "cell_type": "code",
   "execution_count": 5,
   "metadata": {},
   "outputs": [
    {
     "ename": "LoadError",
     "evalue": "MethodError: no method matching Plant(::String, ::String)\n\u001b[0mClosest candidates are:\n\u001b[0m  Plant(::Any) at In[3]:4",
     "output_type": "error",
     "traceback": [
      "MethodError: no method matching Plant(::String, ::String)\n\u001b[0mClosest candidates are:\n\u001b[0m  Plant(::Any) at In[3]:4",
      "",
      "Stacktrace:",
      " [1] top-level scope",
      "   @ In[5]:1",
      " [2] eval",
      "   @ ./boot.jl:373 [inlined]",
      " [3] include_string(mapexpr::typeof(REPL.softscope), mod::Module, code::String, filename::String)",
      "   @ Base ./loading.jl:1196"
     ]
    }
   ],
   "source": [
    "mon = Plant(\"Monstera\", \"Dying\")"
   ]
  },
  {
   "cell_type": "markdown",
   "metadata": {},
   "source": [
    "Parametric types and functions"
   ]
  }
 ],
 "metadata": {
  "kernelspec": {
   "display_name": "Julia 1.7.2",
   "language": "julia",
   "name": "julia-1.7"
  },
  "language_info": {
   "file_extension": ".jl",
   "mimetype": "application/julia",
   "name": "julia",
   "version": "1.7.2"
  },
  "orig_nbformat": 4
 },
 "nbformat": 4,
 "nbformat_minor": 2
}
