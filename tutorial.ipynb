{
 "cells": [
  {
   "cell_type": "markdown",
   "metadata": {},
   "source": [
    "How to define variables? Simple!"
   ]
  },
  {
   "cell_type": "code",
   "execution_count": null,
   "metadata": {},
   "outputs": [],
   "source": [
    "a = 1\n",
    "b = 23.345\n",
    "δ = 7\n",
    "Črt = \"Črt\"\n",
    "; #newline \n",
    "\n",
    "#= this is a \n",
    "multiline \n",
    "comment\n",
    "=#\n"
   ]
  },
  {
   "cell_type": "markdown",
   "metadata": {},
   "source": [
    "Strings and printing."
   ]
  },
  {
   "cell_type": "code",
   "execution_count": null,
   "metadata": {},
   "outputs": [],
   "source": [
    "greet = \"Hello\"\n",
    "whom = \"world\"\n",
    "message = \"$greet, $whom.\\n\" #inserts into string (called interoplation)\n",
    "\n",
    "print(Črt)\n",
    "print(b)\n",
    "print(\"\\n\")\n",
    "print(message)\n",
    "print(\"\\n\")\n"
   ]
  },
  {
   "cell_type": "markdown",
   "metadata": {},
   "source": [
    "Types are important! You can think of them as mathematical sets."
   ]
  },
  {
   "cell_type": "code",
   "execution_count": null,
   "metadata": {},
   "outputs": [],
   "source": [
    "typeof(a)"
   ]
  },
  {
   "cell_type": "code",
   "execution_count": null,
   "metadata": {},
   "outputs": [],
   "source": [
    "typeof(b)"
   ]
  },
  {
   "cell_type": "code",
   "execution_count": null,
   "metadata": {},
   "outputs": [],
   "source": [
    "typeof(1.0 + im*1.0)"
   ]
  },
  {
   "cell_type": "code",
   "execution_count": null,
   "metadata": {},
   "outputs": [],
   "source": [
    "typeof(pi)"
   ]
  },
  {
   "cell_type": "code",
   "execution_count": null,
   "metadata": {},
   "outputs": [],
   "source": [
    "BigFloat(1) + pi"
   ]
  },
  {
   "cell_type": "code",
   "execution_count": null,
   "metadata": {},
   "outputs": [],
   "source": [
    "BigFloat(1) + Float64(pi)"
   ]
  },
  {
   "cell_type": "markdown",
   "metadata": {},
   "source": [
    "There are concrete and abstract types. Abstract types are useful to build the type hierarchy."
   ]
  },
  {
   "cell_type": "code",
   "execution_count": null,
   "metadata": {},
   "outputs": [],
   "source": [
    "Irrational <: Real #sunbtype operation"
   ]
  },
  {
   "cell_type": "markdown",
   "metadata": {},
   "source": [
    "Important tip: ensure the types of the variables are not changed during execution!\n",
    "This is called \"type stability\"."
   ]
  },
  {
   "cell_type": "code",
   "execution_count": null,
   "metadata": {},
   "outputs": [],
   "source": [
    "a = 1.0 #this is bad for performance because we changed the type of a\n",
    "typeof(a)"
   ]
  },
  {
   "cell_type": "markdown",
   "metadata": {},
   "source": [
    "Usefull data structures: arrays, vectors and tuples, iterators"
   ]
  },
  {
   "cell_type": "code",
   "execution_count": null,
   "metadata": {},
   "outputs": [],
   "source": [
    "v = [1,2,3]\n",
    "A = [1 2 3 ; 4 5 6]"
   ]
  },
  {
   "cell_type": "code",
   "execution_count": null,
   "metadata": {},
   "outputs": [],
   "source": [
    "A * v"
   ]
  },
  {
   "cell_type": "code",
   "execution_count": null,
   "metadata": {},
   "outputs": [],
   "source": [
    "tuple1 = (1, 2, 3) #tuples are immutable like in python\n",
    "a, b, c = tuple1\n",
    "e, f, _ = tuple1\n",
    "\n",
    "e"
   ]
  },
  {
   "cell_type": "markdown",
   "metadata": {},
   "source": [
    "Julia supports comprehensions (like list comprehensions in Python)."
   ]
  },
  {
   "cell_type": "code",
   "execution_count": null,
   "metadata": {},
   "outputs": [],
   "source": [
    "vec = [x^2 for x in 0:9 if x > 5] #can be conditional"
   ]
  },
  {
   "cell_type": "markdown",
   "metadata": {},
   "source": [
    "Generator comprehensions are made with (). Useful to conserve space in memory."
   ]
  },
  {
   "cell_type": "code",
   "execution_count": null,
   "metadata": {},
   "outputs": [],
   "source": [
    "gen = (x^2 for x in 1:1000000)\n",
    "#this is not an array!"
   ]
  },
  {
   "cell_type": "code",
   "execution_count": null,
   "metadata": {},
   "outputs": [],
   "source": [
    "# to get the array\n",
    "collect(gen)"
   ]
  },
  {
   "cell_type": "code",
   "execution_count": null,
   "metadata": {},
   "outputs": [],
   "source": [
    "# other functions from the Iterate module can be used to take only a subset of values\n",
    "collect(Iterators.take(gen, 20))"
   ]
  },
  {
   "cell_type": "code",
   "execution_count": null,
   "metadata": {},
   "outputs": [],
   "source": [
    "#can also be used as an argument\n",
    "join(x^2 for x = 1:5)"
   ]
  },
  {
   "cell_type": "markdown",
   "metadata": {},
   "source": [
    "Functions help with code reusability and performance. Also global variables are bad in julia because compiler cannot optimize as well. Important tip: USE FUNCTIONS!"
   ]
  },
  {
   "cell_type": "code",
   "execution_count": null,
   "metadata": {},
   "outputs": [],
   "source": [
    "function f(x)\n",
    "    x^2 + 1    \n",
    "end #ends the function and returns last computation\n",
    "\n",
    "f(2)"
   ]
  },
  {
   "cell_type": "code",
   "execution_count": null,
   "metadata": {},
   "outputs": [],
   "source": [
    "#multiple arguments\n",
    "\n",
    "function splat_test(a, b, c)\n",
    "    return a*b*c\n",
    "end\n",
    "\n",
    "#splating\n",
    "splat_test(tuple1...)"
   ]
  },
  {
   "cell_type": "code",
   "execution_count": null,
   "metadata": {},
   "outputs": [],
   "source": [
    "#quick definition\n",
    "g(x) = sin(x)\n",
    "\n",
    "#anonymous functions stored in variable\n",
    "h = (x, y) -> g(x) + y\n",
    "\n",
    "h(3.5, 1.0)"
   ]
  },
  {
   "cell_type": "markdown",
   "metadata": {},
   "source": [
    "Anonymous functions are useful in functions that evaluate functions (mathematical functionals)."
   ]
  },
  {
   "cell_type": "code",
   "execution_count": null,
   "metadata": {},
   "outputs": [],
   "source": [
    "#exampe is map\n",
    "map(x->x^2, [i for i in 1:10])"
   ]
  },
  {
   "cell_type": "markdown",
   "metadata": {},
   "source": [
    "Functions can also be composed, using the mathematical notation!"
   ]
  },
  {
   "cell_type": "code",
   "execution_count": null,
   "metadata": {},
   "outputs": [],
   "source": [
    "s(x) = sin(x)\n",
    "sq(x) = x^2\n",
    "\n",
    "#use \\circ and press tab to get ∘\n",
    "h = sq ∘ s #first computes sine and the squares it\n",
    "h(9.0)"
   ]
  },
  {
   "cell_type": "markdown",
   "metadata": {},
   "source": [
    "Functions can have positional and keyword arguments."
   ]
  },
  {
   "cell_type": "code",
   "execution_count": null,
   "metadata": {},
   "outputs": [],
   "source": [
    "#positional, default and keyword arguments\n",
    "function wave(x, y=1.0 ; a=1.0) #kwargs following ; generally worse performance\n",
    "    return a*cos(x) + y\n",
    "end\n",
    "\n",
    "wave(0.1)"
   ]
  },
  {
   "cell_type": "markdown",
   "metadata": {},
   "source": [
    "It is possible to use a variable number of arguments."
   ]
  },
  {
   "cell_type": "code",
   "execution_count": null,
   "metadata": {},
   "outputs": [],
   "source": [
    "function variable_arguments(x, args...) #might cause performance issues ... is called splating\n",
    "    print(\"I accept everything!\")\n",
    "end\n",
    "\n",
    "variable_arguments(1, 2,  5, 6)"
   ]
  },
  {
   "cell_type": "code",
   "execution_count": null,
   "metadata": {},
   "outputs": [],
   "source": [
    "function modify!(a, idx) #convention: function that modifies its argument name ends with !\n",
    "    a[idx] +=  1.0\n",
    "end\n",
    "\n",
    "a = zeros(10)\n",
    "println(a[2])\n",
    "modify!(a, 2)\n",
    "println(a[2])\n",
    "modify!(a, 2)\n",
    "println(a[2])\n",
    "\n",
    "#WARNING only works on arrays!"
   ]
  },
  {
   "cell_type": "code",
   "execution_count": null,
   "metadata": {},
   "outputs": [],
   "source": [
    "println(a)\n",
    "push!(a, 4.0)\n",
    "println(a)"
   ]
  },
  {
   "cell_type": "markdown",
   "metadata": {},
   "source": [
    "How to define loops and control statments."
   ]
  },
  {
   "cell_type": "code",
   "execution_count": null,
   "metadata": {},
   "outputs": [],
   "source": [
    "function absolute(x)\n",
    "    if x >= 0\n",
    "        return x\n",
    "    else\n",
    "        return -x\n",
    "    end\n",
    "end\n",
    "\n",
    "function while_test()\n",
    "    i=0\n",
    "    while i<30\n",
    "        println(i)\n",
    "        i += 1\n",
    "    end\n",
    "end\n",
    "\n",
    "for i in 1:100 #ranges \n",
    "    if i>10\n",
    "        break\n",
    "    else\n",
    "   \t    println(i^2) #printline \n",
    "    end\n",
    "end\n",
    "\n",
    "#you can also use elseif"
   ]
  },
  {
   "cell_type": "markdown",
   "metadata": {},
   "source": [
    "Multidimensional arrays. Be careful to iterate in the right way! column-major storage, like fortran not like python. "
   ]
  },
  {
   "cell_type": "code",
   "execution_count": null,
   "metadata": {},
   "outputs": [],
   "source": [
    "\n",
    "function fill_array(N)\n",
    "    array = zeros(N,N)\n",
    "    for i in 1:N\n",
    "        for j in 1:N\n",
    "            array[i,j] = i + j\n",
    "        end\n",
    "    end\n",
    "    return array    \n",
    "end\n",
    "\n",
    "function fill_array2(N)\n",
    "    array = zeros(N,N)\n",
    "    for i in 1:N\n",
    "        for j in 1:N\n",
    "            array[j,i] = i + j\n",
    "        end\n",
    "    end\n",
    "    return array    \n",
    "end\n",
    "\n",
    "\n"
   ]
  },
  {
   "cell_type": "code",
   "execution_count": null,
   "metadata": {},
   "outputs": [],
   "source": [
    "N = 10000\n",
    "\n",
    "@time fill_array(N)"
   ]
  },
  {
   "cell_type": "code",
   "execution_count": null,
   "metadata": {},
   "outputs": [],
   "source": [
    "@time fill_array2(N)"
   ]
  },
  {
   "cell_type": "code",
   "execution_count": null,
   "metadata": {},
   "outputs": [],
   "source": [
    "table = zeros(2,3,4)\n",
    "for k in 1:4\n",
    "    for j in 1:3\n",
    "        for i in 1:2\n",
    "            table[i,j,k] = i*j*k\n",
    "        end\n",
    "    end\n",
    "end\n",
    "\n",
    "table"
   ]
  },
  {
   "cell_type": "markdown",
   "metadata": {},
   "source": [
    "Slicing works simmilar to numpy."
   ]
  },
  {
   "cell_type": "code",
   "execution_count": null,
   "metadata": {},
   "outputs": [],
   "source": [
    "table[:, 1:3, 1:2]"
   ]
  },
  {
   "cell_type": "code",
   "execution_count": null,
   "metadata": {},
   "outputs": [],
   "source": [
    "for n in eachindex(table) #most efficient way of looping through array\n",
    "    print(n)\n",
    "    print(\" \")\n",
    "    print(table[n])\n",
    "    print(\"\\n\")\n",
    "end    "
   ]
  },
  {
   "cell_type": "markdown",
   "metadata": {},
   "source": [
    "One can use the . syntax to vectorize functions."
   ]
  },
  {
   "cell_type": "code",
   "execution_count": null,
   "metadata": {},
   "outputs": [],
   "source": [
    "#brodcasting is done with . Similar to numpy functions. \n",
    "\n",
    "a = [1,2,3]\n",
    "sin.(a)\n"
   ]
  },
  {
   "cell_type": "code",
   "execution_count": null,
   "metadata": {},
   "outputs": [],
   "source": [
    "# @. macro converts all operations inside a function to vectorized ones\n",
    "@. function vectorized(arg)\n",
    "    sin(arg)^2 + cos(arg)^2\n",
    "end\n",
    "\n",
    "vectorized(a)"
   ]
  },
  {
   "cell_type": "markdown",
   "metadata": {},
   "source": [
    "Multiple dispatch is the main programing paradigm of Julia. This means Julia creates specalized methods for specific argument types."
   ]
  },
  {
   "cell_type": "code",
   "execution_count": null,
   "metadata": {},
   "outputs": [],
   "source": [
    "#types of functional arguments can be declared\n",
    "#Example lets make a factorial function \n",
    "\n",
    "function fact(x::Int)\n",
    "    temp = [i for i in 1:x]\n",
    "    return prod(temp)\n",
    "end\n",
    "\n",
    "#now this function is only defined for integers\n",
    "fact(10)"
   ]
  },
  {
   "cell_type": "markdown",
   "metadata": {},
   "source": [
    "Let us exted the factorial to real numbers by using the gamma function from the special functions module."
   ]
  },
  {
   "cell_type": "code",
   "execution_count": null,
   "metadata": {},
   "outputs": [],
   "source": [
    "#importing a module is done by the import or using statement\n",
    "using SpecialFunctions\n",
    "\n",
    "function fact(x::Float64) #Similar to function overloading\n",
    "    gamma(x+1)\n",
    "end "
   ]
  },
  {
   "cell_type": "code",
   "execution_count": null,
   "metadata": {},
   "outputs": [],
   "source": [
    "fact(1.5)"
   ]
  },
  {
   "cell_type": "markdown",
   "metadata": {},
   "source": [
    "It is often useful to define custom types. These are similar to classes in Python and C++ with the difference that they do not have accompanying methods."
   ]
  },
  {
   "cell_type": "code",
   "execution_count": null,
   "metadata": {},
   "outputs": [],
   "source": [
    "abstract type Being\n",
    "end\n",
    "\n",
    "struct Physicist <: Being\n",
    "    name::String\n",
    "    subject::String\n",
    "end\n",
    "\n",
    "#default constructor\n"
   ]
  },
  {
   "cell_type": "code",
   "execution_count": null,
   "metadata": {},
   "outputs": [],
   "source": [
    "crt = Physicist(\"Črt\", \"Quantum Chaos\")\n",
    "matt = Physicist(\"Matt\", \"Rydberg Atoms\")\n",
    "matt.subject "
   ]
  },
  {
   "cell_type": "code",
   "execution_count": null,
   "metadata": {},
   "outputs": [],
   "source": [
    "matt.subject = \"Quantum Chaos\""
   ]
  },
  {
   "cell_type": "code",
   "execution_count": null,
   "metadata": {},
   "outputs": [],
   "source": [
    "mutable struct Droid <: Being\n",
    "    name::String\n",
    "    subject::String\n",
    "end\n",
    "\n"
   ]
  },
  {
   "cell_type": "code",
   "execution_count": null,
   "metadata": {},
   "outputs": [],
   "source": [
    "r2 = Droid(\"R2-D2\", \"Mechanical Engineering\")\n",
    "threepo = Droid(\"C3-PO\", \"Protocol\")"
   ]
  },
  {
   "cell_type": "code",
   "execution_count": null,
   "metadata": {},
   "outputs": [],
   "source": [
    "r2.subject = \"Drink delivery\""
   ]
  },
  {
   "cell_type": "markdown",
   "metadata": {},
   "source": [
    "Multiple Dispatch with custom types."
   ]
  },
  {
   "cell_type": "code",
   "execution_count": null,
   "metadata": {},
   "outputs": [],
   "source": [
    "function introduce(me::Being)\n",
    "    println(\"I am $(me.name) and I like $(me.subject).\")\n",
    "end"
   ]
  },
  {
   "cell_type": "code",
   "execution_count": null,
   "metadata": {},
   "outputs": [],
   "source": [
    "introduce(threepo)\n",
    "introduce(crt)"
   ]
  },
  {
   "cell_type": "code",
   "execution_count": null,
   "metadata": {},
   "outputs": [],
   "source": [
    "introduce(1)"
   ]
  },
  {
   "cell_type": "code",
   "execution_count": null,
   "metadata": {},
   "outputs": [],
   "source": [
    "function introduce(me::Number)\n",
    "    println(\"I am $me and I am a $(typeof(me)).\")\n",
    "end\n",
    "\n",
    "function introduce(me::Integer)\n",
    "    println(\"I am $me and I am an $(typeof(me)).\")\n",
    "end"
   ]
  },
  {
   "cell_type": "code",
   "execution_count": null,
   "metadata": {},
   "outputs": [],
   "source": [
    "introduce(1)\n",
    "introduce(1.0)"
   ]
  },
  {
   "cell_type": "code",
   "execution_count": null,
   "metadata": {},
   "outputs": [],
   "source": [
    "struct Cat <: Being\n",
    "    name::String\n",
    "    subject::String\n",
    "\n",
    "end\n",
    "\n",
    "Cat(name)= Cat(name, \"Sleeping\")\n"
   ]
  },
  {
   "cell_type": "code",
   "execution_count": null,
   "metadata": {},
   "outputs": [],
   "source": [
    "miho = Cat(\"Mihovil\")"
   ]
  },
  {
   "cell_type": "code",
   "execution_count": null,
   "metadata": {},
   "outputs": [],
   "source": [
    "blixa = Cat(\"Blixa\", \"Eating\")"
   ]
  },
  {
   "cell_type": "code",
   "execution_count": null,
   "metadata": {},
   "outputs": [],
   "source": [
    "struct Plant <: Being\n",
    "    name::String\n",
    "    subject::String\n",
    "    Plant(name) = new(name, \"Growing\")\n",
    "end"
   ]
  },
  {
   "cell_type": "code",
   "execution_count": null,
   "metadata": {},
   "outputs": [],
   "source": [
    "beni = Plant(\"Ficus\")"
   ]
  },
  {
   "cell_type": "code",
   "execution_count": null,
   "metadata": {},
   "outputs": [],
   "source": [
    "mon = Plant(\"Monstera\", \"Dying\")"
   ]
  },
  {
   "cell_type": "markdown",
   "metadata": {},
   "source": [
    "For more advanced type definitions check out Parametric types and the where statement."
   ]
  }
 ],
 "metadata": {
  "kernelspec": {
   "display_name": "Julia 1.7.2",
   "language": "julia",
   "name": "julia-1.7"
  },
  "language_info": {
   "file_extension": ".jl",
   "mimetype": "application/julia",
   "name": "julia",
   "version": "1.7.2"
  },
  "orig_nbformat": 4
 },
 "nbformat": 4,
 "nbformat_minor": 2
}
